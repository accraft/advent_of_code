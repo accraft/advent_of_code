{
 "nbformat": 4,
 "nbformat_minor": 2,
 "metadata": {
  "language_info": {
   "name": "python",
   "codemirror_mode": {
    "name": "ipython",
    "version": 3
   },
   "version": "3.7.2"
  },
  "orig_nbformat": 2,
  "file_extension": ".py",
  "mimetype": "text/x-python",
  "name": "python",
  "npconvert_exporter": "python",
  "pygments_lexer": "ipython3",
  "version": 3
 },
 "cells": [
  {
   "cell_type": "code",
   "execution_count": 45,
   "metadata": {},
   "outputs": [
    {
     "data": {
      "text/plain": "[136583, 77036, 109200, 142168, 74357]"
     },
     "execution_count": 45,
     "metadata": {},
     "output_type": "execute_result"
    }
   ],
   "source": [
    "#First will snag all the fuel times and throw them in a dataframe... tried to do it via requests package, but don't wnat to deal with authentication. So I just snagged it and threw it in a .txt document\n",
    "\n",
    "import pandas as pd\n",
    "\n",
    "\n",
    "day01_fileobject = open('C:\\\\Users\\\\accra\\\\projects\\\\advent_of_code\\\\day01_rawdata.txt')\n",
    "\n",
    "day01_string = day01_fileobject.read()\n",
    "day01_list_str = day01_string.split('\\n') \n",
    "day01_list = list(map(int, day01_list_str))\n",
    "day01_list[0:5]\n"
   ]
  },
  {
   "cell_type": "code",
   "execution_count": 25,
   "metadata": {},
   "outputs": [
    {
     "name": "stdout",
     "output_type": "stream",
     "text": "[2, 2, 654, 33583]\n"
    },
    {
     "data": {
      "text/plain": "34241"
     },
     "execution_count": 25,
     "metadata": {},
     "output_type": "execute_result"
    }
   ],
   "source": [
    "#now do the math!\n",
    "def calculate_fuel(mass):\n",
    "    step1 = mass/3\n",
    "    step2 = round(step1-.4999999999)\n",
    "    step3 = step2 - 2\n",
    "    return step3\n",
    "\n",
    "#test function\n",
    "test_inputs = [12,14,1969,100756]\n",
    "n = 0\n",
    "test_out_list = []\n",
    "for i in test_inputs:\n",
    "    test_out_list.append(calculate_fuel(i))\n",
    "    n += 1\n",
    "\n",
    "print(test_out_list)\n",
    "sum(test_out_list)"
   ]
  },
  {
   "cell_type": "code",
   "execution_count": 30,
   "metadata": {},
   "outputs": [
    {
     "data": {
      "text/plain": "3366415"
     },
     "execution_count": 30,
     "metadata": {},
     "output_type": "execute_result"
    }
   ],
   "source": [
    "#now we have the function working, loop through everything and come up with a total, this is the answer to the first question. \n",
    "n = 0\n",
    "out_list = []\n",
    "for i in day01_list:\n",
    "    out_list.append(calculate_fuel(i))\n",
    "    n += 1\n",
    "\n",
    "sum(out_list)"
   ]
  },
  {
   "cell_type": "code",
   "execution_count": 42,
   "metadata": {},
   "outputs": [
    {
     "name": "stdout",
     "output_type": "stream",
     "text": "2\n966\n50346\n"
    }
   ],
   "source": [
    "#for the second question, need to modify the loop to calculate fuel for the fuel!\n",
    "def calculate_fuel2(mass):\n",
    "    n=0\n",
    "    fuel_mass_list = [calculate_fuel(mass)]\n",
    "    while fuel_mass_list[-1] > 0:\n",
    "        fuel_toadd = max(calculate_fuel(fuel_mass_list[n]),0)\n",
    "        fuel_mass_list.append(fuel_toadd) \n",
    "        n += 1\n",
    "    return fuel_mass_list\n",
    "\n",
    "print(sum(calculate_fuel2(14)))\n",
    "print(sum(calculate_fuel2(1969)))\n",
    "print(sum(calculate_fuel2(100756)))\n"
   ]
  },
  {
   "cell_type": "code",
   "execution_count": 46,
   "metadata": {},
   "outputs": [
    {
     "data": {
      "text/plain": "5046772"
     },
     "execution_count": 46,
     "metadata": {},
     "output_type": "execute_result"
    }
   ],
   "source": [
    "#now we have the second function working, loop through everything and come up with a total again.\n",
    "n = 0\n",
    "out_list2 = []\n",
    "for i in day01_list:\n",
    "    out_list2.append(sum(calculate_fuel2(i)))\n",
    "    n += 1\n",
    "\n",
    "sum(out_list2)"
   ]
  }
 ]
}