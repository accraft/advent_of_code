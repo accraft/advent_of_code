{
 "nbformat": 4,
 "nbformat_minor": 2,
 "metadata": {
  "language_info": {
   "name": "python",
   "codemirror_mode": {
    "name": "ipython",
    "version": 3
   },
   "version": "3.7.2"
  },
  "orig_nbformat": 2,
  "file_extension": ".py",
  "mimetype": "text/x-python",
  "name": "python",
  "npconvert_exporter": "python",
  "pygments_lexer": "ipython3",
  "version": 3
 },
 "cells": [
  {
   "cell_type": "code",
   "metadata": {},
   "outputs": [],
   "source": [
    "#First will snag all the fuel times and throw them in a dataframe... tried to do it via requests package, but don't wnat to deal with authentication. So I just snagged it and threw it in a .txt document\n",
    "\n",
    "\n",
    "def import_data():\n",
    "    day02_fileobject = open('C:\\\\Users\\\\accra\\\\projects\\\\advent_of_code\\\\day02_rawdata.txt')\n",
    "\n",
    "    day02_string = day02_fileobject.read()\n",
    "    day02_list_str = day02_string.split(',') \n",
    "    day02_list = list(map(int, day02_list_str))\n",
    "    return day02_list\n"
   ]
  },
  {
   "cell_type": "code",
   "metadata": {},
   "outputs": [],
   "source": [
    "#function to take care of a 4 space unit\n",
    "def run_4set_operation(masterlist,list4):\n",
    "    if list4[0]==99:\n",
    "        return 'end'\n",
    "    elif list4[0]==1:\n",
    "        masterlist[list4[3]] = masterlist[list4[1]] + masterlist[list4[2]]\n",
    "        return 'running'\n",
    "    elif list4[0]==2:\n",
    "        masterlist[list4[3]] = masterlist[list4[1]] * masterlist[list4[2]]\n",
    "        return 'running'\n",
    "    else:\n",
    "        return 'error'\n",
    "\n",
    "mastertest = [1,9,10,3,2,3,11,0,99,30,40,50]\n",
    "print(mastertest[0:4])\n",
    "run_4set_operation(mastertest,mastertest[:4])\n"
   ]
  },
  {
   "cell_type": "code",
   "metadata": {},
   "outputs": [],
   "source": [
    "#now that we have a working function, I think all we need is a while loop that feeds the function 4 items at a time and stops when the outcode is end or error\n",
    "\n",
    "def run_program(instructions_in):\n",
    "    instructions_out = instructions_in\n",
    "    outcome='running'\n",
    "    startset=0\n",
    "    endset=4\n",
    "    while outcome=='running':\n",
    "        if instructions_out[startset] == 99:\n",
    "            break\n",
    "        to_process = instructions_out[startset:endset]\n",
    "        outcome = run_4set_operation(instructions_out,to_process)\n",
    "        startset += 4\n",
    "        endset += 4\n",
    "    return instructions_out\n",
    "\n",
    "mastertest = [1,9,10,3,2,3,11,0,99,30,40,50]\n",
    "run_program(mastertest)"
   ]
  },
  {
   "cell_type": "code",
   "metadata": {},
   "outputs": [],
   "source": [
    "#last step is to replace position 1 with the value 12 and replace position 2 with the value 2.\n",
    "day02_list_final = import_data()\n",
    "day02_list_final[1]=12\n",
    "day02_list_final[2]=2\n",
    "\n",
    "run_program(day02_list_final)"
   ]
  },
  {
   "cell_type": "code",
   "execution_count": 131,
   "metadata": {},
   "outputs": [
    {
     "name": "stdout",
     "output_type": "stream",
     "text": "0 0 337076\n0 10 337086\n0 20 337096\n0 30 337106\n0 40 337116\n0 50 337126\n0 60 337136\n0 70 337146\n0 80 337156\n0 90 337166\n0 100 337176\n5 0 1489076\n5 10 1489086\n5 20 1489096\n5 30 1489106\n5 40 1489116\n5 50 1489126\n5 60 1489136\n5 70 1489146\n5 80 1489156\n5 90 1489166\n5 100 1489176\n10 0 2641076\n10 10 2641086\n10 20 2641096\n10 30 2641106\n10 40 2641116\n10 50 2641126\n10 60 2641136\n10 70 2641146\n10 80 2641156\n10 90 2641166\n10 100 2641176\n15 0 3793076\n15 10 3793086\n15 20 3793096\n15 30 3793106\n15 40 3793116\n15 50 3793126\n15 60 3793136\n15 70 3793146\n15 80 3793156\n15 90 3793166\n15 100 3793176\n20 0 4945076\n20 10 4945086\n20 20 4945096\n20 30 4945106\n20 40 4945116\n20 50 4945126\n20 60 4945136\n20 70 4945146\n20 80 4945156\n20 90 4945166\n20 100 4945176\n25 0 6097076\n25 10 6097086\n25 20 6097096\n25 30 6097106\n25 40 6097116\n25 50 6097126\n25 60 6097136\n25 70 6097146\n25 80 6097156\n25 90 6097166\n25 100 6097176\n30 0 7249076\n30 10 7249086\n30 20 7249096\n30 30 7249106\n30 40 7249116\n30 50 7249126\n30 60 7249136\n30 70 7249146\n30 80 7249156\n30 90 7249166\n30 100 7249176\n35 0 8401076\n35 10 8401086\n35 20 8401096\n35 30 8401106\n35 40 8401116\n35 50 8401126\n35 60 8401136\n35 70 8401146\n35 80 8401156\n35 90 8401166\n35 100 8401176\n40 0 9553076\n40 10 9553086\n40 20 9553096\n40 30 9553106\n40 40 9553116\n40 50 9553126\n40 60 9553136\n40 70 9553146\n40 80 9553156\n40 90 9553166\n40 100 9553176\n45 0 10705076\n45 10 10705086\n45 20 10705096\n45 30 10705106\n45 40 10705116\n45 50 10705126\n45 60 10705136\n45 70 10705146\n45 80 10705156\n45 90 10705166\n45 100 10705176\n50 0 11857076\n50 10 11857086\n50 20 11857096\n50 30 11857106\n50 40 11857116\n50 50 11857126\n50 60 11857136\n50 70 11857146\n50 80 11857156\n50 90 11857166\n50 100 11857176\n55 0 13009076\n55 10 13009086\n55 20 13009096\n55 30 13009106\n55 40 13009116\n55 50 13009126\n55 60 13009136\n55 70 13009146\n55 80 13009156\n55 90 13009166\n55 100 13009176\n60 0 14161076\n60 10 14161086\n60 20 14161096\n60 30 14161106\n60 40 14161116\n60 50 14161126\n60 60 14161136\n60 70 14161146\n60 80 14161156\n60 90 14161166\n60 100 14161176\n65 0 15313076\n65 10 15313086\n65 20 15313096\n65 30 15313106\n65 40 15313116\n65 50 15313126\n65 60 15313136\n65 70 15313146\n65 80 15313156\n65 90 15313166\n65 100 15313176\n70 0 16465076\n70 10 16465086\n70 20 16465096\n70 30 16465106\n70 40 16465116\n70 50 16465126\n70 60 16465136\n70 70 16465146\n70 80 16465156\n70 90 16465166\n70 100 16465176\n75 0 17617076\n75 10 17617086\n75 20 17617096\n75 30 17617106\n75 40 17617116\n75 50 17617126\n75 60 17617136\n75 70 17617146\n75 80 17617156\n75 90 17617166\n75 100 17617176\n80 0 18769076\n80 10 18769086\n80 20 18769096\n80 30 18769106\n80 40 18769116\n80 50 18769126\n80 60 18769136\n80 70 18769146\n80 80 18769156\n80 90 18769166\n80 100 18769176\nfound answer!\nnoun is equal to:84\nverb is equal to:44\nthe answer is equal to: 8444\n85 0 19921076\n85 10 19921086\n85 20 19921096\n85 30 19921106\n85 40 19921116\n85 50 19921126\n85 60 19921136\n85 70 19921146\n85 80 19921156\n85 90 19921166\n85 100 19921176\n90 0 21073076\n90 10 21073086\n90 20 21073096\n90 30 21073106\n90 40 21073116\n90 50 21073126\n90 60 21073136\n90 70 21073146\n90 80 21073156\n90 90 21073166\n90 100 21073176\n95 0 22225076\n95 10 22225086\n95 20 22225096\n95 30 22225106\n95 40 22225116\n95 50 22225126\n95 60 22225136\n95 70 22225146\n95 80 22225156\n95 90 22225166\n95 100 22225176\n100 0 23377076\n100 10 23377086\n100 20 23377096\n100 30 23377106\n100 40 23377116\n100 50 23377126\n100 60 23377136\n100 70 23377146\n100 80 23377156\n100 90 23377166\n100 100 23377176\n"
    }
   ],
   "source": [
    "#now the second step is to run the program a bunch of times until we find the values at steps 1 and 2 that give an output of 19690720\n",
    "for n in range(101):\n",
    "    for v in range (101):\n",
    "        to_test = import_data()\n",
    "        to_test[1] = n\n",
    "        to_test[2] = v\n",
    "        program_listout = run_program(to_test)\n",
    "        if n % 5 == 0 and v % 10 == 0:\n",
    "            print(str(n) + ' ' + str(v) + ' ' + str(program_listout[0]))\n",
    "        if program_listout[0] == 19690720:\n",
    "            print('found answer!')\n",
    "            print('noun is equal to:' + str(n))\n",
    "            print('verb is equal to:' + str(v))\n",
    "            answer = 100 * n + v\n",
    "            print('the answer is equal to: ' + str(answer))\n",
    "            break\n",
    "\n",
    "\n"
   ]
  }
 ]
}