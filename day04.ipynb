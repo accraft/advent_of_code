{
 "nbformat": 4,
 "nbformat_minor": 2,
 "metadata": {
  "language_info": {
   "name": "python",
   "codemirror_mode": {
    "name": "ipython",
    "version": 3
   },
   "version": "3.7.4"
  },
  "orig_nbformat": 2,
  "file_extension": ".py",
  "mimetype": "text/x-python",
  "name": "python",
  "npconvert_exporter": "python",
  "pygments_lexer": "ipython3",
  "version": 3
 },
 "cells": [
  {
   "cell_type": "code",
   "execution_count": 12,
   "metadata": {},
   "outputs": [
    {
     "data": {
      "text/plain": "1"
     },
     "execution_count": 12,
     "metadata": {},
     "output_type": "execute_result"
    }
   ],
   "source": [
    "#super easy, will just loop through and find the the pws. \n",
    "\n",
    "def find_pws(range_to_check):\n",
    "    valid_pws = 0\n",
    "    for i in range_to_check:\n",
    "        test1=False\n",
    "        test2=True\n",
    "        d_prior = '0'\n",
    "        s = str(i)\n",
    "        for d in s:\n",
    "            if d == d_prior:\n",
    "                test1 = True\n",
    "            if int(d) < int(d_prior):\n",
    "                test2 = False\n",
    "            d_prior = d\n",
    "        valid_pws += test2*test1\n",
    "    return valid_pws\n",
    "     \n",
    "find_pws([111111,223450,123789])\n"
   ]
  },
  {
   "cell_type": "code",
   "execution_count": 11,
   "metadata": {},
   "outputs": [
    {
     "data": {
      "text/plain": "475"
     },
     "execution_count": 11,
     "metadata": {},
     "output_type": "execute_result"
    }
   ],
   "source": [
    "find_pws(range(372304,847060))"
   ]
  },
  {
   "cell_type": "code",
   "execution_count": 13,
   "metadata": {},
   "outputs": [
    {
     "data": {
      "text/plain": "2"
     },
     "execution_count": 13,
     "metadata": {},
     "output_type": "execute_result"
    }
   ],
   "source": [
    "def find_pws2(range_to_check):\n",
    "    valid_pws = 0\n",
    "    for i in range_to_check:\n",
    "        test1=False\n",
    "        test2=True\n",
    "        d_prior = '0'\n",
    "        s = str(i)\n",
    "        for d in s:\n",
    "            if d == d_prior and s.count(d) == 2:\n",
    "                test1 = True\n",
    "            if int(d) < int(d_prior):\n",
    "                test2 = False\n",
    "            d_prior = d\n",
    "        valid_pws += test2*test1\n",
    "    return valid_pws\n",
    "     \n",
    "find_pws2([112233,123444,111122])"
   ]
  },
  {
   "cell_type": "code",
   "execution_count": 14,
   "metadata": {},
   "outputs": [
    {
     "data": {
      "text/plain": "297"
     },
     "execution_count": 14,
     "metadata": {},
     "output_type": "execute_result"
    }
   ],
   "source": [
    "find_pws2(range(372304,847060))"
   ]
  },
  {
   "cell_type": "code",
   "execution_count": null,
   "metadata": {},
   "outputs": [],
   "source": []
  }
 ]
}