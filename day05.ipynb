{
 "nbformat": 4,
 "nbformat_minor": 2,
 "metadata": {
  "language_info": {
   "name": "python",
   "codemirror_mode": {
    "name": "ipython",
    "version": 3
   },
   "version": "3.7.4"
  },
  "orig_nbformat": 2,
  "file_extension": ".py",
  "mimetype": "text/x-python",
  "name": "python",
  "npconvert_exporter": "python",
  "pygments_lexer": "ipython3",
  "version": 3
 },
 "cells": [
  {
   "cell_type": "code",
   "execution_count": 80,
   "metadata": {},
   "outputs": [
    {
     "name": "stdout",
     "output_type": "stream",
     "text": "[1, 2, 9, 39, 1102, 3, 11, 7, 99, 30, 40, 50, 3, 12, 4, 14, 99, 99, 99]\n"
    }
   ],
   "source": [
    "#re-write byte code processor\n",
    "import easygui\n",
    "\n",
    "def get_value(masterlist,mode_in,pointer):\n",
    "    if mode_in == '0':\n",
    "        return masterlist[pointer]\n",
    "    if mode_in == '1':\n",
    "        return pointer\n",
    "\n",
    "def run_operation(masterlist,pointer_location):\n",
    "    instruction_padded =  '0000' + str(masterlist[pointer_location]) \n",
    "    instruction = instruction_padded[-2:]\n",
    "    if instruction=='99':\n",
    "        return -1\n",
    "    par1 = instruction_padded[-3:-2]\n",
    "    par2 = instruction_padded[-4:-3]\n",
    "    par3 = instruction_padded[-5:-4]\n",
    "    input1 = get_value(masterlist,par1,pointer_location + 1)\n",
    "    input2 = get_value(masterlist,par2,pointer_location + 2)\n",
    "    input3 = get_value(masterlist,par3,pointer_location + 3)\n",
    "    if instruction=='01':\n",
    "        masterlist[input3] = masterlist[input1] + masterlist[input2]\n",
    "        return pointer_location + 4\n",
    "    elif instruction=='02':\n",
    "        masterlist[input3] = masterlist[input1] * masterlist[input2]\n",
    "        return pointer_location + 4\n",
    "    elif instruction=='03':\n",
    "        masterlist[input1] = int(easygui.enterbox(\"input parameter to location \" + str(input1))) \n",
    "        return pointer_location + 2\n",
    "    elif instruction=='04':\n",
    "        print(masterlist[input1])\n",
    "        return pointer_location + 2\n",
    "    elif instruction=='05':\n",
    "        if masterlist[input1] != 0:\n",
    "            return masterlist[input2]    \n",
    "        elif masterlist[input1] == 0:\n",
    "            return pointer_location + 3\n",
    "    elif instruction=='06':\n",
    "        if masterlist[input1] == 0:\n",
    "            return masterlist[input2]    \n",
    "        elif masterlist[input1] != 0:\n",
    "            return pointer_location + 3\n",
    "    elif instruction=='07':\n",
    "        if masterlist[input1] < masterlist[input2]:\n",
    "            masterlist[input3] = 1\n",
    "        else: \n",
    "            masterlist[input3] = 0\n",
    "        return pointer_location + 4\n",
    "    elif instruction=='08':\n",
    "        if masterlist[input1] == masterlist[input2]:\n",
    "            masterlist[input3] = 1\n",
    "        else: \n",
    "            masterlist[input3] = 0\n",
    "        return pointer_location + 4\n",
    "    else:\n",
    "        print('ERROR ON POINTER ' + str(pointer_location))\n",
    "        return -1\n",
    "\n",
    "mastertest = [1,2,9,3,1102,3,11,7,99,30,40,50,3,12,4,14,99,99,99]\n",
    "run_operation(mastertest,0)\n",
    "#run_operation(mastertest,4)\n",
    "#run_operation(mastertest,12)\n",
    "#run_operation(mastertest,14)\n",
    "print(mastertest)"
   ]
  },
  {
   "cell_type": "code",
   "execution_count": 84,
   "metadata": {},
   "outputs": [
    {
     "name": "stdout",
     "output_type": "stream",
     "text": "999\n[3, 21, 1008, 21, 8, 20, 1005, 20, 22, 107, 8, 21, 20, 1006, 20, 31, 1106, 0, 36, 98, 0, 7, 1002, 21, 125, 20, 4, 20, 1105, 1, 46, 104, 999, 1105, 1, 46, 1101, 1000, 1, 20, 4, 20, 1105, 1, 46, 98, 99, 99, 99, 99]\n"
    }
   ],
   "source": [
    "def run_program(instructions_in):\n",
    "    instructions_out = instructions_in.copy()\n",
    "    instructions_out.extend([99,99,99])\n",
    "    pointer=0\n",
    "    end_counter = 0\n",
    "    while pointer >= 0 and pointer <= len(instructions_in) and end_counter <= len(instructions_in):\n",
    "        pointer = run_operation(instructions_out,pointer)\n",
    "        end_counter =+ 1\n",
    "    return instructions_out\n",
    "\n",
    "test_list = [3,21,1008,21,8,20,1005,20,22,107,8,21,20,1006,20,31,1106,0,36,98,0,0,1002,21,125,20,4,20,1105,1,46,104,999,1105,1,46,1101,1000,1,20,4,20,1105,1,46,98,99]\n",
    "outtest = run_program(test_list)\n",
    "print(outtest)"
   ]
  },
  {
   "cell_type": "code",
   "execution_count": 85,
   "metadata": {},
   "outputs": [
    {
     "name": "stdout",
     "output_type": "stream",
     "text": "9265694\n"
    }
   ],
   "source": [
    "day5_part1_input = [3,225,1,225,6,6,1100,1,238,225,104,0,1002,148,28,224,1001,224,-672,224,4,224,1002,223,8,223,101,3,224,224,1,224,223,223,1102,8,21,225,1102,13,10,225,1102,21,10,225,1102,6,14,225,1102,94,17,225,1,40,173,224,1001,224,-90,224,4,224,102,8,223,223,1001,224,4,224,1,224,223,223,2,35,44,224,101,-80,224,224,4,224,102,8,223,223,101,6,224,224,1,223,224,223,1101,26,94,224,101,-120,224,224,4,224,102,8,223,223,1001,224,7,224,1,224,223,223,1001,52,70,224,101,-87,224,224,4,224,1002,223,8,223,1001,224,2,224,1,223,224,223,1101,16,92,225,1101,59,24,225,102,83,48,224,101,-1162,224,224,4,224,102,8,223,223,101,4,224,224,1,223,224,223,1101,80,10,225,101,5,143,224,1001,224,-21,224,4,224,1002,223,8,223,1001,224,6,224,1,223,224,223,1102,94,67,224,101,-6298,224,224,4,224,102,8,223,223,1001,224,3,224,1,224,223,223,4,223,99,0,0,0,677,0,0,0,0,0,0,0,0,0,0,0,1105,0,99999,1105,227,247,1105,1,99999,1005,227,99999,1005,0,256,1105,1,99999,1106,227,99999,1106,0,265,1105,1,99999,1006,0,99999,1006,227,274,1105,1,99999,1105,1,280,1105,1,99999,1,225,225,225,1101,294,0,0,105,1,0,1105,1,99999,1106,0,300,1105,1,99999,1,225,225,225,1101,314,0,0,106,0,0,1105,1,99999,108,677,677,224,102,2,223,223,1005,224,329,101,1,223,223,1107,677,226,224,102,2,223,223,1006,224,344,101,1,223,223,1107,226,226,224,102,2,223,223,1006,224,359,101,1,223,223,1108,677,677,224,102,2,223,223,1005,224,374,101,1,223,223,8,677,226,224,1002,223,2,223,1005,224,389,101,1,223,223,108,226,677,224,1002,223,2,223,1006,224,404,1001,223,1,223,107,677,677,224,102,2,223,223,1006,224,419,101,1,223,223,1007,226,226,224,102,2,223,223,1005,224,434,101,1,223,223,1007,677,677,224,102,2,223,223,1005,224,449,1001,223,1,223,8,677,677,224,1002,223,2,223,1006,224,464,101,1,223,223,1108,677,226,224,1002,223,2,223,1005,224,479,101,1,223,223,7,677,226,224,1002,223,2,223,1005,224,494,101,1,223,223,1008,677,677,224,1002,223,2,223,1006,224,509,1001,223,1,223,1007,226,677,224,1002,223,2,223,1006,224,524,1001,223,1,223,107,226,226,224,1002,223,2,223,1006,224,539,1001,223,1,223,1107,226,677,224,102,2,223,223,1005,224,554,101,1,223,223,1108,226,677,224,102,2,223,223,1006,224,569,101,1,223,223,108,226,226,224,1002,223,2,223,1006,224,584,1001,223,1,223,7,226,226,224,1002,223,2,223,1006,224,599,101,1,223,223,8,226,677,224,102,2,223,223,1005,224,614,101,1,223,223,7,226,677,224,1002,223,2,223,1005,224,629,101,1,223,223,1008,226,677,224,1002,223,2,223,1006,224,644,101,1,223,223,107,226,677,224,1002,223,2,223,1005,224,659,1001,223,1,223,1008,226,226,224,1002,223,2,223,1006,224,674,1001,223,1,223,4,223,99,226]\n",
    "\n",
    "part1_output = run_program(day5_part1_input)"
   ]
  }
 ]
}