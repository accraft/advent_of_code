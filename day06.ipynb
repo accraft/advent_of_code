{
 "nbformat": 4,
 "nbformat_minor": 2,
 "metadata": {
  "language_info": {
   "name": "python",
   "codemirror_mode": {
    "name": "ipython",
    "version": 3
   },
   "version": "3.7.4"
  },
  "orig_nbformat": 2,
  "file_extension": ".py",
  "mimetype": "text/x-python",
  "name": "python",
  "npconvert_exporter": "python",
  "pygments_lexer": "ipython3",
  "version": 3
 },
 "cells": [
  {
   "cell_type": "code",
   "execution_count": 10,
   "metadata": {},
   "outputs": [
    {
     "data": {
      "text/plain": "['XLG)95G', 'W3V)ZZ3']"
     },
     "execution_count": 10,
     "metadata": {},
     "output_type": "execute_result"
    }
   ],
   "source": [
    "#read in data into list\n",
    "f = open('/home/accraft/Projects/advent_of_code/day06_rawdata.txt','r')\n",
    "infile = f.readlines()\n",
    "f.close()\n",
    "infile = [i.rstrip() for i in infile]\n",
    "infile[0:2]"
   ]
  },
  {
   "cell_type": "code",
   "execution_count": 27,
   "metadata": {},
   "outputs": [
    {
     "data": {
      "text/plain": "{'B': 'COM',\n 'C': 'B',\n 'D': 'C',\n 'E': 'D',\n 'F': 'E',\n 'G': 'B',\n 'H': 'G',\n 'I': 'D',\n 'J': 'E',\n 'K': 'J',\n 'L': 'K'}"
     },
     "execution_count": 27,
     "metadata": {},
     "output_type": "execute_result"
    }
   ],
   "source": [
    "def log_orbits(orbit_list):\n",
    "    dict_log = {}\n",
    "    for o in orbit_list:\n",
    "        inner_body = o.split(')')[0]\n",
    "        outer_body = o.split(')')[1]\n",
    "        dict_log[outer_body] = inner_body\n",
    "    return dict_log\n",
    "\n",
    "test_orbits = ['COM)B','B)C','C)D','D)E','E)F','B)G','G)H','D)I','E)J','J)K','K)L']\n",
    "test_dict = log_orbits(test_orbits)\n",
    "test_dict"
   ]
  },
  {
   "cell_type": "code",
   "execution_count": 30,
   "metadata": {},
   "outputs": [
    {
     "data": {
      "text/plain": "3"
     },
     "execution_count": 30,
     "metadata": {},
     "output_type": "execute_result"
    }
   ],
   "source": [
    "def count_inner_orbits(orbit_dict,orbit_point):\n",
    "    orbit_count=0\n",
    "    while orbit_point in orbit_dict:\n",
    "        orbit_count +=1\n",
    "        orbit_point = orbit_dict[orbit_point]\n",
    "    return orbit_count\n",
    "\n",
    "count_inner_orbits(test_dict,'D')"
   ]
  },
  {
   "cell_type": "code",
   "execution_count": 31,
   "metadata": {},
   "outputs": [
    {
     "data": {
      "text/plain": "42"
     },
     "execution_count": 31,
     "metadata": {},
     "output_type": "execute_result"
    }
   ],
   "source": [
    "def count_all_orbits(orbit_list):\n",
    "    full_count = 0\n",
    "    all_orbit_log = log_orbits(orbit_list)\n",
    "    for o in all_orbit_log:\n",
    "        full_count += count_inner_orbits(all_orbit_log,o)\n",
    "    return full_count\n",
    "\n",
    "count_all_orbits(test_orbits)"
   ]
  },
  {
   "cell_type": "code",
   "execution_count": 32,
   "metadata": {},
   "outputs": [
    {
     "data": {
      "text/plain": "271151"
     },
     "execution_count": 32,
     "metadata": {},
     "output_type": "execute_result"
    }
   ],
   "source": [
    "count_all_orbits(infile)"
   ]
  },
  {
   "cell_type": "code",
   "execution_count": 75,
   "metadata": {},
   "outputs": [],
   "source": [
    "#part 2\n",
    "orbit_log = log_orbits(infile)\n",
    "test_orbits2 = ['COM)B','B)C','C)D','D)E','E)F','B)G','G)H','D)I','E)J','J)K','K)L','K)YOU','I)SAN'] \n",
    "orbit_log_test = log_orbits(test_orbits2)"
   ]
  },
  {
   "cell_type": "code",
   "execution_count": 76,
   "metadata": {},
   "outputs": [
    {
     "name": "stdout",
     "output_type": "stream",
     "text": "388\n"
    }
   ],
   "source": [
    "#not going to generalize this... should be easy to just countup until we reach a match%%!\n",
    "def gen_orbit_list(orbit_point,orbit_log):\n",
    "    outlist = []\n",
    "    while orbit_point in orbit_log:\n",
    "        outlist.append(orbit_point)\n",
    "        orbit_point = orbit_log[orbit_point]\n",
    "    outlist.reverse()\n",
    "    return outlist\n",
    "\n",
    "def compare_orbits(orbit1,orbit2,orbit_log):\n",
    "    orbit1_list = gen_orbit_list(orbit1,orbit_log)\n",
    "    orbit2_list = gen_orbit_list(orbit2,orbit_log)\n",
    "    \n",
    "    i = 0\n",
    "    match = True\n",
    "    to_xfer = 0\n",
    "    while i <= max(len(orbit1_list),len(orbit2_list)):\n",
    "        if i >= min(len(orbit1_list),len(orbit2_list)):\n",
    "            to_xfer += 1\n",
    "            #print(i)\n",
    "        elif orbit1_list[i] != orbit2_list[i]:\n",
    "            to_xfer += 2\n",
    "            #print('TWOFER' + str(i))\n",
    "        i += 1\n",
    "    to_xfer = to_xfer - 3 #subtract 2 to stop from counting own orbits and to stop double counting the fulcrum orbit\n",
    "    return to_xfer\n",
    "\n",
    "compare_orbits('YOU','SAN',orbit_log_test)\n",
    "print(compare_orbits('YOU','SAN',orbit_log))"
   ]
  },
  {
   "cell_type": "code",
   "execution_count": 77,
   "metadata": {},
   "outputs": [
    {
     "name": "stdout",
     "output_type": "stream",
     "text": "232\n282\n"
    }
   ],
   "source": [
    "#as a check, should be between the two seperate orbit logs\n",
    "print(len(gen_orbit_list('YOU',orbit_log)))\n",
    "print(len(gen_orbit_list('SAN',orbit_log)))"
   ]
  }
 ]
}