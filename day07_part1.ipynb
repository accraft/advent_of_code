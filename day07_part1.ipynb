{
 "nbformat": 4,
 "nbformat_minor": 2,
 "metadata": {
  "language_info": {
   "name": "python",
   "codemirror_mode": {
    "name": "ipython",
    "version": 3
   },
   "version": "3.7.4"
  },
  "orig_nbformat": 2,
  "file_extension": ".py",
  "mimetype": "text/x-python",
  "name": "python",
  "npconvert_exporter": "python",
  "pygments_lexer": "ipython3",
  "version": 3
 },
 "cells": [
  {
   "cell_type": "code",
   "execution_count": 1,
   "metadata": {},
   "outputs": [
    {
     "name": "stdout",
     "output_type": "stream",
     "text": "(2, 'Input Used', None)\n[3, 15, 3, 16, 1002, 16, 10, 16, 1, 16, 15, 15, 4, 15, 99, 4, 0]\n"
    },
    {
     "data": {
      "text/plain": "'Input Used'"
     },
     "execution_count": 1,
     "metadata": {},
     "output_type": "execute_result"
    }
   ],
   "source": [
    "#re-write byte code processor\n",
    "import easygui\n",
    "\n",
    "def get_value(masterlist,mode_in,pointer):\n",
    "    if mode_in == '0':\n",
    "        return masterlist[pointer]\n",
    "    if mode_in == '1':\n",
    "        return pointer\n",
    "\n",
    "def run_operation(masterlist,pointer_location,input_value=None):\n",
    "    #this function \n",
    "    instruction_padded =  '0000' + str(masterlist[pointer_location]) \n",
    "    instruction = instruction_padded[-2:]\n",
    "    if instruction=='99':\n",
    "        return -1,'End',None\n",
    "    par1 = instruction_padded[-3:-2]\n",
    "    par2 = instruction_padded[-4:-3]\n",
    "    par3 = instruction_padded[-5:-4]\n",
    "    input1 = get_value(masterlist,par1,pointer_location + 1)\n",
    "    input2 = get_value(masterlist,par2,pointer_location + 2)\n",
    "    input3 = get_value(masterlist,par3,pointer_location + 3)\n",
    "    if instruction=='01':\n",
    "        masterlist[input3] = masterlist[input1] + masterlist[input2]\n",
    "        return pointer_location + 4 , 'running' , None\n",
    "    elif instruction=='02':\n",
    "        masterlist[input3] = masterlist[input1] * masterlist[input2]\n",
    "        return pointer_location + 4 , 'running' , None\n",
    "    elif instruction=='03' and input_value==None:\n",
    "        masterlist[input1] = int(easygui.enterbox(\"input parameter to location \" + str(input1))) \n",
    "        return pointer_location + 2 , 'running' , None\n",
    "    elif instruction=='03' and input_value!=None:\n",
    "        masterlist[input1] = input_value \n",
    "        return pointer_location + 2 , 'Input Used', None\n",
    "    elif instruction=='04':\n",
    "        return pointer_location + 2 , 'Output Created' , masterlist[input1] \n",
    "    elif instruction=='05':\n",
    "        if masterlist[input1] != 0:\n",
    "            return masterlist[input2], 'running' , None\n",
    "        elif masterlist[input1] == 0:\n",
    "            return pointer_location + 3\n",
    "    elif instruction=='06':\n",
    "        if masterlist[input1] == 0:\n",
    "            return masterlist[input2], 'running' , None\n",
    "        elif masterlist[input1] != 0:\n",
    "            return pointer_location + 3, 'running' , None\n",
    "    elif instruction=='07':\n",
    "        if masterlist[input1] < masterlist[input2]:\n",
    "            masterlist[input3] = 1\n",
    "        else: \n",
    "            masterlist[input3] = 0\n",
    "        return pointer_location + 4, 'running' , None\n",
    "    elif instruction=='08':\n",
    "        if masterlist[input1] == masterlist[input2]:\n",
    "            masterlist[input3] = 1\n",
    "        else: \n",
    "            masterlist[input3] = 0\n",
    "        return pointer_location + 4, 'running' , None\n",
    "    else:\n",
    "        return -1, 'ERROR ON POINTER ' + str(pointer_location), None\n",
    "\n",
    "mastertest = [3,15,3,16,1002,16,10,16,1,16,15,15,4,15,99,0,0]\n",
    "#run_operation(mastertest,4)\n",
    "#run_operation(mastertest,12)\n",
    "sample_output = run_operation(mastertest,0,input_value=4)\n",
    "print(sample_output)\n",
    "print(mastertest)\n",
    "sample_output[1]\n",
    "\n"
   ]
  },
  {
   "cell_type": "code",
   "execution_count": 20,
   "metadata": {},
   "outputs": [
    {
     "data": {
      "text/plain": "(-1, 2, [43210])"
     },
     "execution_count": 20,
     "metadata": {},
     "output_type": "execute_result"
    }
   ],
   "source": [
    "def run_amplifier_program(instructions_in,pointer,input_list,input_list_pointer=0):\n",
    "    #this runs a program, will take an instruction in\n",
    "    if instructions_in[-3:] != [99,99,99]:\n",
    "        instructions_in.extend([99,99,99])\n",
    "    program_outlist=[]\n",
    "    pointer=0\n",
    "    end_counter = 0\n",
    "    input_value=input_list[input_list_pointer]\n",
    "    while pointer >= 0 and pointer <= len(instructions_in) and end_counter <= len(instructions_in):\n",
    "        pointer,state_change,output = run_operation(instructions_in,pointer,input_value=input_value)\n",
    "        if state_change=='Input Used':\n",
    "            if input_list_pointer >= len(input_list) - 1:\n",
    "                input_list_pointer += 1\n",
    "                input_value = None\n",
    "            elif input_list_pointer < len(input_list) - 1:\n",
    "                input_list_pointer += 1\n",
    "                input_value = input_list[input_list_pointer]\n",
    "        elif state_change=='Output Created':\n",
    "            program_outlist.append(output)\n",
    "        elif state_change=='End':\n",
    "            break\n",
    "        elif state_change[0:8] == 'ERROR ON':\n",
    "            break\n",
    "        end_counter =+ 1\n",
    "    return pointer,input_list_pointer,program_outlist\n",
    "\n",
    "test_programA = [3,15,3,16,1002,16,10,16,1,16,15,15,4,15,99,0,0]\n",
    "test_programB = test_programA.copy() \n",
    "test_programC = test_programA.copy()\n",
    "test_programD = test_programA.copy()\n",
    "test_programE = test_programA.copy()\n",
    "test_phase = [4,3,2,1,0]\n",
    "\n",
    "test_outA = run_amplifier_program(test_programA,pointer=0,input_list=[test_phase[0],0],input_list_pointer=0)\n",
    "test_outB = run_amplifier_program(test_programB,pointer=0,input_list=[test_phase[1],test_outA[2][0]],input_list_pointer=0)\n",
    "test_outC = run_amplifier_program(test_programC,pointer=0,input_list=[test_phase[2],test_outB[2][0]],input_list_pointer=0)\n",
    "test_outD = run_amplifier_program(test_programD,pointer=0,input_list=[test_phase[3],test_outC[2][0]],input_list_pointer=0)\n",
    "test_outE = run_amplifier_program(test_programE,pointer=0,input_list=[test_phase[4],test_outD[2][0]],input_list_pointer=0)\n",
    "test_outE"
   ]
  },
  {
   "cell_type": "code",
   "execution_count": 23,
   "metadata": {},
   "outputs": [
    {
     "data": {
      "text/plain": "65210"
     },
     "execution_count": 23,
     "metadata": {},
     "output_type": "execute_result"
    }
   ],
   "source": [
    "def run_all_amplifiers(program,phase_list):\n",
    "    programA = program.copy()\n",
    "    programB = program.copy()\n",
    "    programC = program.copy()\n",
    "    programD = program.copy()\n",
    "    programE = program.copy()\n",
    "\n",
    "    outA = run_amplifier_program(programA,pointer=0,input_list=[phase_list[0],0],input_list_pointer=0)\n",
    "    outB = run_amplifier_program(programB,pointer=0,input_list=[phase_list[1],outA[2][0]],input_list_pointer=0)\n",
    "    outC = run_amplifier_program(programC,pointer=0,input_list=[phase_list[2],outB[2][0]],input_list_pointer=0)\n",
    "    outD = run_amplifier_program(programD,pointer=0,input_list=[phase_list[3],outC[2][0]],input_list_pointer=0)\n",
    "    outE = run_amplifier_program(programE,pointer=0,input_list=[phase_list[4],outD[2][0]],input_list_pointer=0)\n",
    "    return outE[2][0]\n",
    "\n",
    "test_program2 = [3,31,3,32,1002,32,10,32,1001,31,-2,31,1007,31,0,33,1002,33,7,33,1,33,31,31,1,32,31,31,4,31,99,0,0,0]\n",
    "run_all_amplifiers(test_program2,[1,0,4,3,2])"
   ]
  },
  {
   "cell_type": "code",
   "execution_count": 24,
   "metadata": {},
   "outputs": [
    {
     "name": "stdout",
     "output_type": "stream",
     "text": "(43201, [4, 3, 2, 0, 1])\n(54321, [0, 1, 2, 3, 4])\n(65210, [1, 0, 4, 3, 2])\n"
    }
   ],
   "source": [
    "to_try = [ list(map(int,list(str('0' + str(x))[-5:]))) for x in range(1234,43210) if '0' in str('0' + str(x))[-5:] and '1' in str('0' + str(x))[-5:] and '2' in str('0' + str(x))[-5:] and '3' in str('0' + str(x))[-5:] and '4' in str('0' + str(x))[-5:] ]\n",
    "\n",
    "def find_max_setting(program):\n",
    "    output_max = 0\n",
    "    for p in to_try:\n",
    "        output = run_all_amplifiers(program,p)\n",
    "        if output > output_max:\n",
    "            phase_max = p \n",
    "            output_max = max(output_max,output)\n",
    "    return output_max,phase_max\n",
    "\n",
    "print(find_max_setting([3,15,3,16,1002,16,10,16,1,16,15,15,4,15,99,0,0]))\n",
    "print(find_max_setting([3,23,3,24,1002,24,10,24,1002,23,-1,23,101,5,23,23,1,24,23,23,4,23,99,0,0]))\n",
    "print(find_max_setting([3,31,3,32,1002,32,10,32,1001,31,-2,31,1007,31,0,33,1002,33,7,33,1,33,31,31,1,32,31,31,4,31,99,0,0,0]))"
   ]
  },
  {
   "cell_type": "code",
   "execution_count": 25,
   "metadata": {},
   "outputs": [
    {
     "data": {
      "text/plain": "(262086, [2, 1, 4, 0, 3])"
     },
     "execution_count": 25,
     "metadata": {},
     "output_type": "execute_result"
    }
   ],
   "source": [
    "part1_input = [3,8,1001,8,10,8,105,1,0,0,21,42,67,84,109,122,203,284,365,446,99999,3,9,1002,9,3,9,1001,9,5,9,102,4,9,9,1001,9,3,9,4,9,99,3,9,1001,9,5,9,1002,9,3,9,1001,9,4,9,102,3,9,9,101,3,9,9,4,9,99,3,9,101,5,9,9,1002,9,3,9,101,5,9,9,4,9,99,3,9,102,5,9,9,101,5,9,9,102,3,9,9,101,3,9,9,102,2,9,9,4,9,99,3,9,101,2,9,9,1002,9,3,9,4,9,99,3,9,101,2,9,9,4,9,3,9,101,1,9,9,4,9,3,9,101,1,9,9,4,9,3,9,1001,9,1,9,4,9,3,9,101,1,9,9,4,9,3,9,1002,9,2,9,4,9,3,9,1002,9,2,9,4,9,3,9,1001,9,2,9,4,9,3,9,101,1,9,9,4,9,3,9,1002,9,2,9,4,9,99,3,9,1001,9,1,9,4,9,3,9,101,2,9,9,4,9,3,9,102,2,9,9,4,9,3,9,101,1,9,9,4,9,3,9,102,2,9,9,4,9,3,9,1001,9,1,9,4,9,3,9,101,1,9,9,4,9,3,9,1002,9,2,9,4,9,3,9,101,2,9,9,4,9,3,9,1002,9,2,9,4,9,99,3,9,101,2,9,9,4,9,3,9,101,2,9,9,4,9,3,9,101,2,9,9,4,9,3,9,101,1,9,9,4,9,3,9,101,1,9,9,4,9,3,9,102,2,9,9,4,9,3,9,1002,9,2,9,4,9,3,9,1002,9,2,9,4,9,3,9,101,2,9,9,4,9,3,9,1001,9,1,9,4,9,99,3,9,1001,9,1,9,4,9,3,9,101,1,9,9,4,9,3,9,102,2,9,9,4,9,3,9,1002,9,2,9,4,9,3,9,1001,9,2,9,4,9,3,9,1001,9,1,9,4,9,3,9,1001,9,2,9,4,9,3,9,1002,9,2,9,4,9,3,9,1002,9,2,9,4,9,3,9,102,2,9,9,4,9,99,3,9,102,2,9,9,4,9,3,9,1002,9,2,9,4,9,3,9,101,2,9,9,4,9,3,9,101,2,9,9,4,9,3,9,101,1,9,9,4,9,3,9,1002,9,2,9,4,9,3,9,101,1,9,9,4,9,3,9,1001,9,2,9,4,9,3,9,102,2,9,9,4,9,3,9,101,1,9,9,4,9,99]\n",
    "\n",
    "find_max_setting(part1_input)"
   ]
  },
  {
   "cell_type": "code",
   "execution_count": null,
   "metadata": {},
   "outputs": [],
   "source": []
  }
 ]
}